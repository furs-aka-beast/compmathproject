{
 "cells": [
  {
   "cell_type": "markdown",
   "id": "30a25dcd",
   "metadata": {},
   "source": [
    "- Backend: FastAPI (Python) + NumPy/SciPy.\n",
    "\n",
    "-  Data transport: JSON (for simplicity) or Apache Arrow (for HPC).\n",
    "\n",
    "-   Visualization: Plotly (return interactive plots, easy) or VTK (convenient).\n",
    "\n",
    "Required libraries :\n",
    "- uvicorn plotly pydantic fastapi (conda/mamba)\n"
   ]
  },
  {
   "cell_type": "markdown",
   "id": "b9d103ce",
   "metadata": {},
   "source": [
    "## Directory structure \n",
    "\n",
    "- pde-solver-api/\n",
    "    - main.py              # FastAPI server\n",
    "    - schemas.py           # Pydantic models\n",
    "    -  solvers/            # Numerical methods\n",
    "         - heat_equation.py\n",
    "    -  tests/              # Unit tests"
   ]
  },
  {
   "cell_type": "markdown",
   "id": "a690a1e0",
   "metadata": {},
   "source": [
    "## Типичная схема дя входных данных \n",
    "\n",
    "schemas.py"
   ]
  },
  {
   "cell_type": "code",
   "execution_count": 1,
   "id": "21064bb2",
   "metadata": {},
   "outputs": [],
   "source": [
    "from pydantic import BaseModel\n",
    "from typing import List\n",
    "\n",
    "class HeatEquationInput(BaseModel):\n",
    "    alpha: float           # Thermal diffusivity\n",
    "    length: float          # Domain length (e.g., 1 meter)\n",
    "    nx: int                # Spatial grid points (e.g., 100)\n",
    "    nt: int                # Time steps (e.g., 500)\n",
    "    dt: float              # Time step size\n",
    "    initial_condition: List[float]  # u(x,0) as array\n",
    "    boundary_conditions: dict       # E.g., {\"left\": 0.0, \"right\": 0.0}"
   ]
  },
  {
   "cell_type": "markdown",
   "id": "6ec4718e",
   "metadata": {},
   "source": [
    "Можно для простоты использовать библиотеку json.\n",
    "\n",
    "Далее солвер (в solvers/heat_equation.py)"
   ]
  },
  {
   "cell_type": "code",
   "execution_count": 2,
   "id": "90a998ef",
   "metadata": {},
   "outputs": [],
   "source": [
    "import numpy as np\n",
    "\n",
    "def solve_heat_equation(alpha: float, length: float, nx: int, nt: int, dt: float, \n",
    "                        initial_condition: np.ndarray, bc: dict) -> np.ndarray:\n",
    "    \"\"\"\n",
    "    Solves the 1D heat equation using finite differences.\n",
    "    Returns: Solution matrix u(x,t) as NumPy array.\n",
    "    \"\"\"\n",
    "    dx = length / (nx - 1)\n",
    "    u = np.zeros((nx, nt))\n",
    "    u[:, 0] = initial_condition  # Set initial condition\n",
    "\n",
    "    # Finite difference scheme\n",
    "    for t in range(1, nt):\n",
    "        u[0, t] = bc[\"left\"]      # Boundary condition (left)\n",
    "        u[-1, t] = bc[\"right\"]    # Boundary condition (right)\n",
    "        for x in range(1, nx-1):\n",
    "            u[x, t] = u[x, t-1] + alpha * dt / dx**2 * (\n",
    "                u[x+1, t-1] - 2*u[x, t-1] + u[x-1, t-1]  # direct scheme\n",
    "            )\n",
    "    return u"
   ]
  },
  {
   "cell_type": "markdown",
   "id": "85559646",
   "metadata": {},
   "source": [
    "Далее код для вызова. Прекрасен тем, что можно запускать на другой машине, например, на каком-нибудь вычислительном кластере (ведь мы уже взрослые).\n",
    "\n",
    "Код в файле main.py (если запускать пряом из этой тетрадки - то строку from schemas ...  нужно опустить )"
   ]
  },
  {
   "cell_type": "code",
   "execution_count": 4,
   "id": "6ebd1b01",
   "metadata": {},
   "outputs": [
    {
     "ename": "ModuleNotFoundError",
     "evalue": "No module named 'solvers'",
     "output_type": "error",
     "traceback": [
      "\u001b[0;31m---------------------------------------------------------------------------\u001b[0m",
      "\u001b[0;31mModuleNotFoundError\u001b[0m                       Traceback (most recent call last)",
      "Cell \u001b[0;32mIn[4], line 5\u001b[0m\n\u001b[1;32m      3\u001b[0m \u001b[38;5;28;01mimport\u001b[39;00m \u001b[38;5;21;01mnumpy\u001b[39;00m \u001b[38;5;28;01mas\u001b[39;00m \u001b[38;5;21;01mnp\u001b[39;00m\n\u001b[1;32m      4\u001b[0m \u001b[38;5;66;03m#from schemas import HeatEquationInput\u001b[39;00m\n\u001b[0;32m----> 5\u001b[0m \u001b[38;5;28;01mfrom\u001b[39;00m \u001b[38;5;21;01msolvers\u001b[39;00m\u001b[38;5;21;01m.\u001b[39;00m\u001b[38;5;21;01mheat_equation\u001b[39;00m \u001b[38;5;28;01mimport\u001b[39;00m solve_heat_equation\n\u001b[1;32m      6\u001b[0m \u001b[38;5;28;01mimport\u001b[39;00m \u001b[38;5;21;01mplotly\u001b[39;00m\u001b[38;5;21;01m.\u001b[39;00m\u001b[38;5;21;01mgraph_objects\u001b[39;00m \u001b[38;5;28;01mas\u001b[39;00m \u001b[38;5;21;01mgo\u001b[39;00m\n\u001b[1;32m      7\u001b[0m \u001b[38;5;28;01mimport\u001b[39;00m \u001b[38;5;21;01mbase64\u001b[39;00m\n",
      "\u001b[0;31mModuleNotFoundError\u001b[0m: No module named 'solvers'"
     ]
    }
   ],
   "source": [
    "from fastapi import FastAPI\n",
    "from fastapi.responses import JSONResponse\n",
    "import numpy as np\n",
    "#from schemas import HeatEquationInput # uncomment this line to run from terminal\n",
    "from solvers.heat_equation import solve_heat_equation\n",
    "import plotly.graph_objects as go\n",
    "import base64\n",
    "\n",
    "app = FastAPI(title=\"PDE Solver API\")\n",
    "\n",
    "@app.post(\"/solve/heat-equation/\")\n",
    "async def solve_heat_eq(params: HeatEquationInput): # asynchronous call to computing server\n",
    "    # Convert input to NumPy\n",
    "    u0 = np.array(params.initial_condition)\n",
    "    \n",
    "    # Solve PDE\n",
    "    solution = solve_heat_equation(\n",
    "        alpha=params.alpha,\n",
    "        length=params.length,\n",
    "        nx=params.nx,\n",
    "        nt=params.nt,\n",
    "        dt=params.dt,\n",
    "        initial_condition=u0,\n",
    "        bc=params.boundary_conditions\n",
    "    )\n",
    "\n",
    "    # Generate Plotly figure\n",
    "    fig = go.Figure(data=[go.Surface(z=solution.T)])\n",
    "    fig.update_layout(title=\"Heat Equation Solution\")\n",
    "    plot_html = fig.to_html(full_html=False)\n",
    "\n",
    "    # Return solution + plot\n",
    "    return {\n",
    "        \"solution\": solution.tolist(),  # Convert to JSON-serializable\n",
    "        \"visualization\": plot_html     # Embeddable Plotly HTML\n",
    "    }"
   ]
  },
  {
   "cell_type": "markdown",
   "id": "9c9455d3",
   "metadata": {},
   "source": [
    " Запуск приложения на стороне сервера (если на вашем компе, то прямо у вас из командной строки).\n",
    "\n",
    "```bash\n",
    "uvicorn main:app --reload\n",
    "```\n"
   ]
  },
  {
   "cell_type": "markdown",
   "id": "79fa5150",
   "metadata": {},
   "source": [
    "Запрос на запуск солвера \n",
    "\n",
    "```bash\n",
    "curl -X POST \"http://localhost:8000/solve/heat-equation/\" \\\n",
    "-H \"Content-Type: application/json\" \\\n",
    "-d '{\n",
    "    \"alpha\": 0.01,\n",
    "    \"length\": 1.0,\n",
    "    \"nx\": 50,\n",
    "    \"nt\": 100,\n",
    "    \"dt\": 0.1,\n",
    "    \"initial_condition\": [0, ... , 0],  # Array of length nx\n",
    "    \"boundary_conditions\": {\"left\": 0.0, \"right\": 0.0}\n",
    "}'\n",
    "\n",
    "```"
   ]
  },
  {
   "cell_type": "markdown",
   "id": "df6b8a79",
   "metadata": {},
   "source": [
    "Ответ сервера в виде словаря\n",
    "\n",
    "```bash\n",
    "{\n",
    "  \"solution\": [[0, 0, ...], ...],  # 2D array of u(x,t)\n",
    "  \"visualization\": \"<div>...</div>\" # Plotly HTML\n",
    "}\n",
    "```"
   ]
  },
  {
   "cell_type": "code",
   "execution_count": null,
   "id": "42940d82",
   "metadata": {},
   "outputs": [],
   "source": []
  },
  {
   "cell_type": "code",
   "execution_count": null,
   "id": "a358cf12",
   "metadata": {},
   "outputs": [],
   "source": []
  }
 ],
 "metadata": {
  "kernelspec": {
   "display_name": "base",
   "language": "python",
   "name": "python3"
  },
  "language_info": {
   "codemirror_mode": {
    "name": "ipython",
    "version": 3
   },
   "file_extension": ".py",
   "mimetype": "text/x-python",
   "name": "python",
   "nbconvert_exporter": "python",
   "pygments_lexer": "ipython3",
   "version": "3.10.14"
  }
 },
 "nbformat": 4,
 "nbformat_minor": 5
}
